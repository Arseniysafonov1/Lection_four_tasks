{
 "cells": [
  {
   "cell_type": "code",
   "execution_count": 1,
   "id": "b8069cf8",
   "metadata": {},
   "outputs": [],
   "source": [
    "import sqlite3\n",
    "conn = sqlite3.connect('names.db')"
   ]
  },
  {
   "cell_type": "code",
   "execution_count": 14,
   "id": "161b7bb9",
   "metadata": {},
   "outputs": [],
   "source": [
    "men = conn.execute('''select count(Gender)\n",
    "from names\n",
    "where gender=='M' AND 1801 <= year and year <= 1900;''')\n",
    "women = conn.execute('''select count(Gender)\n",
    "from names\n",
    "where gender=='F' AND 1801 <= year and year <= 1900;''')"
   ]
  },
  {
   "cell_type": "code",
   "execution_count": 15,
   "id": "bb160a93",
   "metadata": {},
   "outputs": [
    {
     "ename": "TypeError",
     "evalue": "'sqlite3.Cursor' object is not subscriptable",
     "output_type": "error",
     "traceback": [
      "\u001b[1;31m---------------------------------------------------------------------------\u001b[0m",
      "\u001b[1;31mTypeError\u001b[0m                                 Traceback (most recent call last)",
      "Cell \u001b[1;32mIn[15], line 1\u001b[0m\n\u001b[1;32m----> 1\u001b[0m \u001b[38;5;28mprint\u001b[39m(\u001b[38;5;124mf\u001b[39m\u001b[38;5;124m\"\u001b[39m\u001b[38;5;124mРодилось: мужчин - \u001b[39m\u001b[38;5;132;01m{\u001b[39;00m\u001b[43mmen\u001b[49m\u001b[43m[\u001b[49m\u001b[38;5;241;43m0\u001b[39;49m\u001b[43m]\u001b[49m[\u001b[38;5;241m0\u001b[39m]\u001b[38;5;132;01m}\u001b[39;00m\u001b[38;5;124m, женщин - \u001b[39m\u001b[38;5;132;01m{\u001b[39;00mwomen[\u001b[38;5;241m0\u001b[39m][\u001b[38;5;241m0\u001b[39m]\u001b[38;5;132;01m}\u001b[39;00m\u001b[38;5;124m\"\u001b[39m)\n",
      "\u001b[1;31mTypeError\u001b[0m: 'sqlite3.Cursor' object is not subscriptable"
     ]
    }
   ],
   "source": [
    "\n",
    "print(f\"Родилось: мужчин - {men.fetchone()[0]}, женщин - {women.fetchone()[0]}\")"
   ]
  },
  {
   "cell_type": "code",
   "execution_count": null,
   "id": "71c6c228",
   "metadata": {},
   "outputs": [],
   "source": []
  }
 ],
 "metadata": {
  "kernelspec": {
   "display_name": "Python 3 (ipykernel)",
   "language": "python",
   "name": "python3"
  },
  "language_info": {
   "codemirror_mode": {
    "name": "ipython",
    "version": 3
   },
   "file_extension": ".py",
   "mimetype": "text/x-python",
   "name": "python",
   "nbconvert_exporter": "python",
   "pygments_lexer": "ipython3",
   "version": "3.10.0"
  }
 },
 "nbformat": 4,
 "nbformat_minor": 5
}
