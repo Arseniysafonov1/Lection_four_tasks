{
 "cells": [
  {
   "cell_type": "code",
   "execution_count": 1,
   "id": "bb8dd264",
   "metadata": {},
   "outputs": [],
   "source": [
    "import pandas as pd\n",
    "import numpy as np\n",
    "df = pd.read_csv(\"./eplmatches.csv\")"
   ]
  },
  {
   "cell_type": "code",
   "execution_count": 2,
   "id": "b270f500",
   "metadata": {},
   "outputs": [],
   "source": [
    "# провели - были домашней командой?\n",
    "df = df[[\"Season_End_Year\", \"Home\"]]"
   ]
  },
  {
   "cell_type": "code",
   "execution_count": 27,
   "id": "e3f5f1e9",
   "metadata": {},
   "outputs": [],
   "source": [
    "leagues = df.groupby(\"Home\")[\"Season_End_Year\"].unique()\n",
    "arr = np.arange(1993, 2023)"
   ]
  },
  {
   "cell_type": "code",
   "execution_count": 57,
   "id": "a474153f",
   "metadata": {},
   "outputs": [
    {
     "name": "stdout",
     "output_type": "stream",
     "text": [
      "Arsenal Chelsea Everton Liverpool Manchester Utd Tottenham\n"
     ]
    },
    {
     "name": "stderr",
     "output_type": "stream",
     "text": [
      "C:\\Users\\Арсений\\AppData\\Local\\Temp\\ipykernel_6916\\786360145.py:1: DeprecationWarning: elementwise comparison failed; this will raise an error in the future.\n",
      "  print(\" \".join(leagues[leagues.apply(lambda x: np.array(x == arr).all())].index))\n"
     ]
    }
   ],
   "source": [
    "print(\" \".join(leagues[leagues.apply(lambda x: np.array(x == arr).all())].index))"
   ]
  },
  {
   "cell_type": "code",
   "execution_count": null,
   "id": "615f95b2",
   "metadata": {},
   "outputs": [],
   "source": []
  }
 ],
 "metadata": {
  "kernelspec": {
   "display_name": "Python 3 (ipykernel)",
   "language": "python",
   "name": "python3"
  },
  "language_info": {
   "codemirror_mode": {
    "name": "ipython",
    "version": 3
   },
   "file_extension": ".py",
   "mimetype": "text/x-python",
   "name": "python",
   "nbconvert_exporter": "python",
   "pygments_lexer": "ipython3",
   "version": "3.10.0"
  }
 },
 "nbformat": 4,
 "nbformat_minor": 5
}
