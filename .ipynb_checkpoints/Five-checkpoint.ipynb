{
 "cells": [
  {
   "cell_type": "code",
   "execution_count": 1,
   "id": "2d1e13d0",
   "metadata": {},
   "outputs": [],
   "source": [
    "import sqlite3\n",
    "conn = sqlite3.connect('names.db')"
   ]
  },
  {
   "cell_type": "code",
   "execution_count": 14,
   "id": "354aa744",
   "metadata": {},
   "outputs": [],
   "source": [
    "men_80 = conn.execute(\"select name, count from names where year = 1880 and gender = 'M' order by count desc limit 3\")\n",
    "women_80 = conn.execute(\"select name, count from names where year = 1880 and gender = 'F' order by count desc limit 3\")\n",
    "men_83 = conn.execute(\"select name, count from names where year = 1883 and gender = 'M' order by count desc limit 3\")\n",
    "women_83 = conn.execute(\"select name, count from names where year = 1883 and gender = 'F' order by count desc limit 3\")\n",
    "men_803 = conn.execute(\"select name, sum(count) from names where year >= 1880 and year <= 1883 and gender = 'M' group by name order by count desc limit 3\")\n",
    "women_803 = conn.execute(\"select name, sum(count) from names where year >= 1880 and year <= 1883 and gender = 'F' group by name order by count desc limit 3\")"
   ]
  },
  {
   "cell_type": "code",
   "execution_count": 13,
   "id": "9f612f68",
   "metadata": {},
   "outputs": [
    {
     "data": {
      "text/plain": [
       "[('Mary', 30144), ('Anna', 11751), ('Emma', 8707)]"
      ]
     },
     "execution_count": 13,
     "metadata": {},
     "output_type": "execute_result"
    }
   ],
   "source": [
    "print(\"Самые часто встречающиеся имена за 1880 год.\")\n",
    "print(\"Мужчины:\")\n",
    "for i in men_80:\n",
    "    print(i[0], ':', i[1])\n",
    "print(\"Женщины:\")\n",
    "for i in women_80:\n",
    "    print(i[0], ':', i[1])\n",
    "    \n",
    "print(\"Самые часто встречающиеся имена за 1883 год.\")\n",
    "print(\"Мужчины:\")\n",
    "for i in men_83:\n",
    "    print(i[0], ':', i[1])\n",
    "print(\"Женщины:\")\n",
    "for i in women_83:\n",
    "    print(i[0], ':', i[1])\n",
    "    \n",
    "print(\"Самые часто встречающиеся имена за 1880-1883 год.\")\n",
    "print(\"Мужчины:\")\n",
    "for i in men_803:\n",
    "    print(i[0], ':', i[1])\n",
    "print(\"Женщины:\")\n",
    "for i in women_803:\n",
    "    print(i[0], ':', i[1])"
   ]
  },
  {
   "cell_type": "code",
   "execution_count": null,
   "id": "efb055c4",
   "metadata": {},
   "outputs": [],
   "source": []
  }
 ],
 "metadata": {
  "kernelspec": {
   "display_name": "Python 3 (ipykernel)",
   "language": "python",
   "name": "python3"
  },
  "language_info": {
   "codemirror_mode": {
    "name": "ipython",
    "version": 3
   },
   "file_extension": ".py",
   "mimetype": "text/x-python",
   "name": "python",
   "nbconvert_exporter": "python",
   "pygments_lexer": "ipython3",
   "version": "3.10.0"
  }
 },
 "nbformat": 4,
 "nbformat_minor": 5
}
