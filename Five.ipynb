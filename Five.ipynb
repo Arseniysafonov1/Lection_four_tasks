{
 "cells": [
  {
   "cell_type": "code",
   "execution_count": 1,
   "id": "a34c2fb3",
   "metadata": {},
   "outputs": [],
   "source": [
    "import sqlite3\n",
    "conn = sqlite3.connect('names.db')"
   ]
  },
  {
   "cell_type": "code",
   "execution_count": 14,
   "id": "5e2fd1da",
   "metadata": {},
   "outputs": [],
   "source": [
    "men_80 = conn.execute(\"select name, count from names where year = 1880 and gender = 'M' order by count desc limit 3\")\n",
    "women_80 = conn.execute(\"select name, count from names where year = 1880 and gender = 'F' order by count desc limit 3\")\n",
    "men_83 = conn.execute(\"select name, count from names where year = 1883 and gender = 'M' order by count desc limit 3\")\n",
    "women_83 = conn.execute(\"select name, count from names where year = 1883 and gender = 'F' order by count desc limit 3\")\n",
    "men_803 = conn.execute(\"select name, sum(count) from names where year >= 1880 and year <= 1883 and gender = 'M' group by name order by count desc limit 3\")\n",
    "women_803 = conn.execute(\"select name, sum(count) from names where year >= 1880 and year <= 1883 and gender = 'F' group by name order by count desc limit 3\")"
   ]
  },
  {
   "cell_type": "code",
   "execution_count": 15,
   "id": "0679d39f",
   "metadata": {},
   "outputs": [
    {
     "name": "stdout",
     "output_type": "stream",
     "text": [
      "Самые часто встречающиеся имена за 1880 год.\n",
      "Мужчины:\n",
      "John : 9655\n",
      "William : 9532\n",
      "James : 5927\n",
      "Женщины:\n",
      "Mary : 7065\n",
      "Anna : 2604\n",
      "Emma : 2003\n",
      "Самые часто встречающиеся имена за 1883 год.\n",
      "Мужчины:\n",
      "John : 8894\n",
      "William : 8387\n",
      "James : 5224\n",
      "Женщины:\n",
      "Mary : 8012\n",
      "Anna : 3306\n",
      "Emma : 2367\n",
      "Самые часто встречающиеся имена за 1880-1883 год.\n",
      "Мужчины:\n",
      "John : 36875\n",
      "William : 35741\n",
      "James : 22485\n",
      "Женщины:\n",
      "Mary : 30144\n",
      "Anna : 11751\n",
      "Emma : 8707\n"
     ]
    }
   ],
   "source": [
    "print(\"Самые часто встречающиеся имена за 1880 год.\")\n",
    "print(\"Мужчины:\")\n",
    "for i in men_80:\n",
    "    print(i[0], ':', i[1])\n",
    "print(\"Женщины:\")\n",
    "for i in women_80:\n",
    "    print(i[0], ':', i[1])\n",
    "    \n",
    "print(\"Самые часто встречающиеся имена за 1883 год.\")\n",
    "print(\"Мужчины:\")\n",
    "for i in men_83:\n",
    "    print(i[0], ':', i[1])\n",
    "print(\"Женщины:\")\n",
    "for i in women_83:\n",
    "    print(i[0], ':', i[1])\n",
    "    \n",
    "print(\"Самые часто встречающиеся имена за 1880-1883 год.\")\n",
    "print(\"Мужчины:\")\n",
    "for i in men_803:\n",
    "    print(i[0], ':', i[1])\n",
    "print(\"Женщины:\")\n",
    "for i in women_803:\n",
    "    print(i[0], ':', i[1])"
   ]
  },
  {
   "cell_type": "code",
   "execution_count": null,
   "id": "5b339f1c",
   "metadata": {},
   "outputs": [],
   "source": []
  }
 ],
 "metadata": {
  "kernelspec": {
   "display_name": "Python 3 (ipykernel)",
   "language": "python",
   "name": "python3"
  },
  "language_info": {
   "codemirror_mode": {
    "name": "ipython",
    "version": 3
   },
   "file_extension": ".py",
   "mimetype": "text/x-python",
   "name": "python",
   "nbconvert_exporter": "python",
   "pygments_lexer": "ipython3",
   "version": "3.10.0"
  }
 },
 "nbformat": 4,
 "nbformat_minor": 5
}
