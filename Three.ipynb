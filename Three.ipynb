{
 "cells": [
  {
   "cell_type": "code",
   "execution_count": 1,
   "id": "cf48d767",
   "metadata": {},
   "outputs": [],
   "source": [
    "import pandas as pd\n",
    "prices = pd.read_csv('./stock_price.csv')\n",
    "indexes = pd.read_csv('./stock_index_dict.csv')"
   ]
  },
  {
   "cell_type": "code",
   "execution_count": 2,
   "id": "4521f5b9",
   "metadata": {},
   "outputs": [],
   "source": [
    "prices.Date = prices.Date.astype('datetime64')\n",
    "prices.Date = prices.Date.dt.year * 100 + prices.Date.dt.month\n",
    "prices = prices.groupby(['Date', 'Tiker']).sum()"
   ]
  },
  {
   "cell_type": "code",
   "execution_count": 3,
   "id": "6dd5474a",
   "metadata": {},
   "outputs": [],
   "source": [
    "prices.reset_index(drop=False, inplace=True)\n",
    "indexes.columns = ['Date', 'Tiker', 'Ind', 'Weight']"
   ]
  },
  {
   "cell_type": "code",
   "execution_count": 4,
   "id": "82643e53",
   "metadata": {},
   "outputs": [
    {
     "name": "stderr",
     "output_type": "stream",
     "text": [
      "C:\\Users\\Арсений\\AppData\\Local\\Temp\\ipykernel_6836\\2699150061.py:3: FutureWarning: The default value of numeric_only in DataFrameGroupBy.sum is deprecated. In a future version, numeric_only will default to False. Either specify numeric_only or select only columns which should be valid for the function.\n",
      "  joined = joined.groupby(['Ind', 'Date']).sum()\n"
     ]
    }
   ],
   "source": [
    "joined = indexes.merge(prices, on=['Date', 'Tiker'])\n",
    "joined.Price = joined.Price * joined.Weight\n",
    "joined = joined.groupby(['Ind', 'Date']).sum()\n",
    "joined.reset_index(drop=False, inplace=True)\n",
    "joined.Date = joined.Date // 100\n",
    "res_data = joined.groupby(['Ind', 'Date']).mean()\n",
    "res_data.reset_index(drop=False, inplace=True)"
   ]
  },
  {
   "cell_type": "code",
   "execution_count": 6,
   "id": "6a6e1ee2",
   "metadata": {},
   "outputs": [
    {
     "data": {
      "text/html": [
       "<div>\n",
       "<style scoped>\n",
       "    .dataframe tbody tr th:only-of-type {\n",
       "        vertical-align: middle;\n",
       "    }\n",
       "\n",
       "    .dataframe tbody tr th {\n",
       "        vertical-align: top;\n",
       "    }\n",
       "\n",
       "    .dataframe thead th {\n",
       "        text-align: right;\n",
       "    }\n",
       "</style>\n",
       "<table border=\"1\" class=\"dataframe\">\n",
       "  <thead>\n",
       "    <tr style=\"text-align: right;\">\n",
       "      <th>Ind</th>\n",
       "      <th>INDX1</th>\n",
       "      <th>INDX2</th>\n",
       "    </tr>\n",
       "    <tr>\n",
       "      <th>Date</th>\n",
       "      <th></th>\n",
       "      <th></th>\n",
       "    </tr>\n",
       "  </thead>\n",
       "  <tbody>\n",
       "    <tr>\n",
       "      <th>2018</th>\n",
       "      <td>1327.594985</td>\n",
       "      <td>1452.035834</td>\n",
       "    </tr>\n",
       "    <tr>\n",
       "      <th>2019</th>\n",
       "      <td>1570.444999</td>\n",
       "      <td>1722.646759</td>\n",
       "    </tr>\n",
       "    <tr>\n",
       "      <th>2020</th>\n",
       "      <td>1504.011458</td>\n",
       "      <td>2356.144583</td>\n",
       "    </tr>\n",
       "    <tr>\n",
       "      <th>2021</th>\n",
       "      <td>2156.214583</td>\n",
       "      <td>3028.702565</td>\n",
       "    </tr>\n",
       "    <tr>\n",
       "      <th>2022</th>\n",
       "      <td>2072.991500</td>\n",
       "      <td>3063.661497</td>\n",
       "    </tr>\n",
       "  </tbody>\n",
       "</table>\n",
       "</div>"
      ],
      "text/plain": [
       "Ind         INDX1        INDX2\n",
       "Date                          \n",
       "2018  1327.594985  1452.035834\n",
       "2019  1570.444999  1722.646759\n",
       "2020  1504.011458  2356.144583\n",
       "2021  2156.214583  3028.702565\n",
       "2022  2072.991500  3063.661497"
      ]
     },
     "execution_count": 6,
     "metadata": {},
     "output_type": "execute_result"
    }
   ],
   "source": [
    "pd.pivot_table(res_data, values='Price', index='Date', columns='Ind')"
   ]
  },
  {
   "cell_type": "code",
   "execution_count": null,
   "id": "5ac4924a",
   "metadata": {},
   "outputs": [],
   "source": []
  }
 ],
 "metadata": {
  "kernelspec": {
   "display_name": "Python 3 (ipykernel)",
   "language": "python",
   "name": "python3"
  },
  "language_info": {
   "codemirror_mode": {
    "name": "ipython",
    "version": 3
   },
   "file_extension": ".py",
   "mimetype": "text/x-python",
   "name": "python",
   "nbconvert_exporter": "python",
   "pygments_lexer": "ipython3",
   "version": "3.10.0"
  }
 },
 "nbformat": 4,
 "nbformat_minor": 5
}
