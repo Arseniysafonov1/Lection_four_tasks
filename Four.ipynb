{
 "cells": [
  {
   "cell_type": "code",
   "execution_count": 1,
   "id": "b8069cf8",
   "metadata": {},
   "outputs": [],
   "source": [
    "import sqlite3\n",
    "conn = sqlite3.connect('names.db')"
   ]
  },
  {
   "cell_type": "code",
   "execution_count": 2,
   "id": "161b7bb9",
   "metadata": {},
   "outputs": [],
   "source": [
    "men = conn.execute('''select count(Gender)\n",
    "from names\n",
    "where gender=='M' AND 1801 <= year and year <= 1900;''')\n",
    "women = conn.execute('''select count(Gender)\n",
    "from names\n",
    "where gender=='F' AND 1801 <= year and year <= 1900;''')"
   ]
  },
  {
   "cell_type": "code",
   "execution_count": 3,
   "id": "bb160a93",
   "metadata": {},
   "outputs": [
    {
     "name": "stdout",
     "output_type": "stream",
     "text": [
      "Родилось: мужчин - 21862, женщин - 28138\n"
     ]
    }
   ],
   "source": [
    "\n",
    "print(f\"Родилось: мужчин - {men.fetchone()[0]}, женщин - {women.fetchone()[0]}\")"
   ]
  },
  {
   "cell_type": "code",
   "execution_count": null,
   "id": "71c6c228",
   "metadata": {},
   "outputs": [],
   "source": []
  }
 ],
 "metadata": {
  "kernelspec": {
   "display_name": "Python 3 (ipykernel)",
   "language": "python",
   "name": "python3"
  },
  "language_info": {
   "codemirror_mode": {
    "name": "ipython",
    "version": 3
   },
   "file_extension": ".py",
   "mimetype": "text/x-python",
   "name": "python",
   "nbconvert_exporter": "python",
   "pygments_lexer": "ipython3",
   "version": "3.10.0"
  }
 },
 "nbformat": 4,
 "nbformat_minor": 5
}
